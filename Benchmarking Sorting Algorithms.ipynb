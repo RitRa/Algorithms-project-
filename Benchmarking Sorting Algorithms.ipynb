{
 "cells": [
  {
   "cell_type": "markdown",
   "metadata": {
    "collapsed": true
   },
   "source": [
    "# Introduction\n"
   ]
  },
  {
   "cell_type": "markdown",
   "metadata": {
    "collapsed": true
   },
   "source": [
    "#Introduce the concept of sorting and sorting algorithms, discuss the\n",
    "relevance of concepts such as complexity (time and space), performance, in-place sorting,\n",
    "stable sorting, comparator functions, comparison-based and non-comparison-based sorts,\n",
    "etc."
   ]
  },
  {
   "cell_type": "markdown",
   "metadata": {},
   "source": [
    "Sorting algorithms vary greatly in their performance. This benchmarking project is to find out which algorithms will perform the best. \n",
    "n"
   ]
  },
  {
   "cell_type": "markdown",
   "metadata": {},
   "source": [
    "# Sorting Algorithms\n",
    "\n",
    "Introduce each of your chosen algorithms in turn,\n",
    "discuss their space and time complexity, and explain how each algorithm works using your\n",
    "own diagrams and different example input instances."
   ]
  },
  {
   "cell_type": "markdown",
   "metadata": {},
   "source": [
    "## 1. Bubble Sort (A simple comparison-based sort)\n",
    "\n",
    "Bubble sort is a simple sorting algorithm.  https://en.wikipedia.org/wiki/Bubble_sort\n",
    "\n",
    "How it works:\n",
    "1. It starts at the beginning of the dataset and compares the first two elements and if the first is greater it will swap them. \n",
    "2. It will continue doing this until no swaps are needed.\n",
    "\n",
    "#### Performance\n",
    "Bubble sort has a worst-case and average complexity of О(n2), where n is the number of items being sorted. \n",
    "When the list is already sorted (best-case), the complexity of bubble sort is only O(n). \n",
    "In the case of a large dataset, Bubble sort should be avoided. It is not very practical or efficient and rarely used in the real world.\n",
    "\n",
    "Bubble sort in action https://www.youtube.com/watch?v=lyZQPjUT5B4&feature=youtu.be\n",
    "\n",
    "![title](bubblesort.png)"
   ]
  },
  {
   "cell_type": "code",
   "execution_count": 38,
   "metadata": {},
   "outputs": [
    {
     "name": "stdout",
     "output_type": "stream",
     "text": [
      "[17, 26, 54, 77, 93]\n"
     ]
    }
   ],
   "source": [
    "# code sourced from http://interactivepython.org/runestone/static/pythonds/SortSearch/TheBubbleSort.html\n",
    "\n",
    "def bubbleSort(alist):\n",
    "    for passnum in range(len(alist)-1,0,-1):\n",
    "        for i in range(passnum):\n",
    "            if alist[i]>alist[i+1]:\n",
    "                temp = alist[i]\n",
    "                alist[i] = alist[i+1]\n",
    "                alist[i+1] = temp\n",
    "\n",
    "alist = [54,26,93,17,77]\n",
    "\n",
    "bubbleSort(alist)\n",
    "\n",
    "print(alist)"
   ]
  },
  {
   "cell_type": "markdown",
   "metadata": {},
   "source": [
    "## 2. Merge Sort (An efficient comparison-based sort)\n",
    "\n",
    "Merge sort is a recursive divide and conquer algorithm that was invented by John von Neumann in 1945.(https://en.wikipedia.org/wiki/Merge_sort)\n",
    "\n",
    "How it works:\n",
    "1. It starts by breaking down the list into sublists until each sublists contains just one element. \n",
    "2. Repeatedly merging the sublists to produce new sorted sublists until there is only one sublist remaining.\n",
    "\n",
    "#### Performance\n",
    "In sorting n objects, merge sort has an average and worst-case performance of O(n log n). It's best, worst and average cases are very similar, making it a good choice for predictable running behaviour. (Source: P.Mannion (2019)Week 10: Sorting Algorithms Part 3, Galway-Mayo Institute of Technology )\n",
    "\n",
    "Merge sort in action:\n",
    "https://www.youtube.com/watch?v=XaqR3G_NVoo\n",
    "\n",
    "\n",
    "An efficient sorting algorithm??\n",
    "\n",
    "![title](mergesort.png)"
   ]
  },
  {
   "cell_type": "code",
   "execution_count": 3,
   "metadata": {},
   "outputs": [
    {
     "name": "stdout",
     "output_type": "stream",
     "text": [
      "[17, 20, 26, 31, 44, 54, 55, 77, 93]\n"
     ]
    }
   ],
   "source": [
    "# code sourced from http://interactivepython.org/runestone/static/pythonds/SortSearch/TheMergeSort.html\n",
    "\n",
    "def mergeSort(alist):\n",
    "    #print(\"Splitting \",alist)\n",
    "    if len(alist)>1:\n",
    "        mid = len(alist)//2\n",
    "        lefthalf = alist[:mid]\n",
    "        righthalf = alist[mid:]\n",
    "\n",
    "        mergeSort(lefthalf)\n",
    "        mergeSort(righthalf)\n",
    "\n",
    "        i=0\n",
    "        j=0\n",
    "        k=0\n",
    "        while i < len(lefthalf) and j < len(righthalf):\n",
    "            if lefthalf[i] < righthalf[j]:\n",
    "                alist[k]=lefthalf[i]\n",
    "                i=i+1\n",
    "            else:\n",
    "                alist[k]=righthalf[j]\n",
    "                j=j+1\n",
    "            k=k+1\n",
    "\n",
    "        while i < len(lefthalf):\n",
    "            alist[k]=lefthalf[i]\n",
    "            i=i+1\n",
    "            k=k+1\n",
    "\n",
    "        while j < len(righthalf):\n",
    "            alist[k]=righthalf[j]\n",
    "            j=j+1\n",
    "            k=k+1\n",
    "    #print(\"Merging \",alist)\n",
    "\n",
    "alist = [54,26,93,17,77,31,44,55,20]\n",
    "mergeSort(alist)\n",
    "print(alist)"
   ]
  },
  {
   "cell_type": "markdown",
   "metadata": {},
   "source": [
    "## 3. Counting Sort (A non-comparison sort)"
   ]
  },
  {
   "cell_type": "code",
   "execution_count": 4,
   "metadata": {},
   "outputs": [
    {
     "name": "stdout",
     "output_type": "stream",
     "text": [
      "[17, 20, 26, 31, 44, 54, 55, 77, 93]\n"
     ]
    }
   ],
   "source": [
    "# code sourced http://www.learntosolveit.com/python/algorithm_countingsort.html\n",
    "def counting_sort(array, maxval):\n",
    "    \"\"\"in-place counting sort\"\"\"\n",
    "    n = len(array)\n",
    "    m = maxval + 1\n",
    "    count = [0] * m               # init with zeros\n",
    "    for a in array:\n",
    "        count[a] += 1             # count occurences\n",
    "    i = 0\n",
    "    for a in range(m):            # emit\n",
    "        for c in range(count[a]): # - emit 'count[a]' copies of 'a'\n",
    "            array[i] = a\n",
    "            i += 1\n",
    "    return array\n",
    "\n",
    "print(counting_sort( alist, 93 ))"
   ]
  },
  {
   "cell_type": "markdown",
   "metadata": {},
   "source": [
    "## 4. Quick Sort\n",
    "\n",
    "Quicksort was developed by British computer scientist Tony Hoare in 1959. It is a recursive divide and conquer algorithm. Due to it's efficiency, it is still a commonly used algorithm for sorting.(https://en.wikipedia.org/wiki/Quicksort)\n",
    "\n",
    "How it works (Source: P.Mannion (2019) Week 10: Sorting Algorithms Part 3, Galway-Mayo Institute of Technology):\n",
    "1. Pivot selection: Pick an element, called a “pivot” from the array\n",
    "2. Partioning: reorder the array elements with values < the pivot come beofre it, which all elements the values ≥ than the pivot come after it. After this partioining, the pivot is in its final position.\n",
    "3. Recursion: apply steps 1 and 2 above recursively to each of the two subarrays\n",
    "\n",
    "#### Performance"
   ]
  },
  {
   "cell_type": "code",
   "execution_count": 5,
   "metadata": {},
   "outputs": [
    {
     "name": "stdout",
     "output_type": "stream",
     "text": [
      "[17, 20, 26, 31, 44, 54, 55, 77, 93]\n"
     ]
    }
   ],
   "source": [
    "# http://interactivepython.org/runestone/static/pythonds/SortSearch/TheQuickSort.html\n",
    "\n",
    "def quickSort(alist):\n",
    "   quickSortHelper(alist,0,len(alist)-1)\n",
    "\n",
    "def quickSortHelper(alist,first,last):\n",
    "   if first<last:\n",
    "\n",
    "       splitpoint = partition(alist,first,last)\n",
    "\n",
    "       quickSortHelper(alist,first,splitpoint-1)\n",
    "       quickSortHelper(alist,splitpoint+1,last)\n",
    "\n",
    "\n",
    "def partition(alist,first,last):\n",
    "   pivotvalue = alist[first]\n",
    "\n",
    "   leftmark = first+1\n",
    "   rightmark = last\n",
    "\n",
    "   done = False\n",
    "   while not done:\n",
    "\n",
    "       while leftmark <= rightmark and alist[leftmark] <= pivotvalue:\n",
    "           leftmark = leftmark + 1\n",
    "\n",
    "       while alist[rightmark] >= pivotvalue and rightmark >= leftmark:\n",
    "           rightmark = rightmark -1\n",
    "\n",
    "       if rightmark < leftmark:\n",
    "           done = True\n",
    "       else:\n",
    "           temp = alist[leftmark]\n",
    "           alist[leftmark] = alist[rightmark]\n",
    "           alist[rightmark] = temp\n",
    "\n",
    "   temp = alist[first]\n",
    "   alist[first] = alist[rightmark]\n",
    "   alist[rightmark] = temp\n",
    "\n",
    "\n",
    "   return rightmark\n",
    "\n",
    "# alist = [54,26,93,17,77,31,44,55,20]\n",
    "quickSort(alist)\n",
    "print(alist)\n"
   ]
  },
  {
   "cell_type": "markdown",
   "metadata": {
    "collapsed": true
   },
   "source": [
    "## 5. Insertion Sort"
   ]
  },
  {
   "cell_type": "code",
   "execution_count": 6,
   "metadata": {},
   "outputs": [
    {
     "name": "stdout",
     "output_type": "stream",
     "text": [
      "[17, 20, 26, 31, 44, 54, 55, 77, 93]\n"
     ]
    }
   ],
   "source": [
    "def insertionSort(alist):\n",
    "   for index in range(1,len(alist)):\n",
    "\n",
    "     currentvalue = alist[index]\n",
    "     position = index\n",
    "\n",
    "     while position>0 and alist[position-1]>currentvalue:\n",
    "         alist[position]=alist[position-1]\n",
    "         position = position-1\n",
    "\n",
    "     alist[position]=currentvalue\n",
    "\n",
    "alist = [54,26,93,17,77,31,44,55,20]\n",
    "insertionSort(alist)\n",
    "print(alist)"
   ]
  },
  {
   "cell_type": "markdown",
   "metadata": {},
   "source": [
    "## 6. BogoSort Sort"
   ]
  },
  {
   "cell_type": "code",
   "execution_count": 7,
   "metadata": {},
   "outputs": [
    {
     "name": "stdout",
     "output_type": "stream",
     "text": [
      "[17, 20, 26, 31, 44, 54, 55, 77, 93]\n"
     ]
    }
   ],
   "source": [
    "# Python program for implementation of Bogo Sort \n",
    "import random \n",
    "# Sorts array a[0..n-1] using Bogo sort \n",
    "def bogoSort(alist): \n",
    "    n = len(alist) \n",
    "    while (is_sorted(alist)== False): \n",
    "        shuffle(alist) \n",
    "  \n",
    "# To check if array is sorted or not \n",
    "def is_sorted(alist): \n",
    "    n = len(alist) \n",
    "    for i in range(0, n-1): \n",
    "        if (alist[i] > alist[i+1] ): \n",
    "            return False\n",
    "    return True\n",
    "  \n",
    "# To generate permuatation of the array \n",
    "def shuffle(alist): \n",
    "    n = len(alist) \n",
    "    for i in range (0,n): \n",
    "        r = random.randint(0,n-1) \n",
    "        alist[i], alist[r] = alist[r], alist[i]\n",
    "\n",
    "        \n",
    "alist = [54,26,93,17,77,31,44,55,20]\n",
    "bogoSort(alist)\n",
    "print(alist)"
   ]
  },
  {
   "cell_type": "markdown",
   "metadata": {},
   "source": [
    "# Implementation & Benchmarking"
   ]
  },
  {
   "cell_type": "markdown",
   "metadata": {},
   "source": [
    "For this section, a function will be definied to call each sorting function defined above\n",
    "1. Bubble Sort\n",
    "2. Merge Sort\n",
    "3. Counting Sort\n",
    "4. Quick Sort\n",
    "5. Insertion Sort\n",
    "\n",
    "Firstly, arrays are generated with random numbers using randint from the python's random library (https://docs.python.org/2/library/random.html). These will be used to test the speed of efficiency of the algorithms."
   ]
  },
  {
   "cell_type": "code",
   "execution_count": 8,
   "metadata": {
    "collapsed": true
   },
   "outputs": [],
   "source": [
    "# code sourced from project example\n",
    "\n",
    "# Creating an array using randint\n",
    "from random import *\n",
    "\n",
    "# creating a random array, function takes in n numbers\n",
    "def random_array(n):\n",
    "    # create an array variable\n",
    "    array = []\n",
    "    # if n = 5, 0,1,2,3,4\n",
    "    for i in range(0, n, 1):\n",
    "        # add to the array random integers between 0 and 100\n",
    "        array.append(randint(0,100))\n",
    "    return array\n",
    "\n",
    "\n",
    "# assign the random array to alist\n",
    "alist = random_array(100)\n",
    "alist1 = random_array(250)\n",
    "alist2 = random_array(500)\n",
    "alist3 = random_array(750)\n",
    "alist4 = random_array(1000)\n",
    "alist5 = random_array(1250)\n",
    "alist6 = random_array(2500)\n",
    "alist7 = random_array(3570)\n",
    "alist8 = random_array(5000)\n",
    "alist9 = random_array(6250)\n",
    "alist10 = random_array(7500)\n",
    "alist11 = random_array(8750)\n",
    "alist12 = random_array(10000)"
   ]
  },
  {
   "cell_type": "markdown",
   "metadata": {},
   "source": [
    "# Benchmarking Multiple Statistical Runs\n",
    "Reference Week 12 - 08 to 12 April 2019 lecture notes"
   ]
  },
  {
   "cell_type": "markdown",
   "metadata": {},
   "source": [
    "Using the time module (https://docs.python.org/3/library/time.html), a start time and end time for each function will be noted and the elapsed time is what will be noted.\n",
    "Above a random arrays were defined. They will be used to test the performance of the "
   ]
  },
  {
   "cell_type": "markdown",
   "metadata": {},
   "source": [
    "### 1. Benchmarking Bubble Sort"
   ]
  },
  {
   "cell_type": "code",
   "execution_count": 10,
   "metadata": {},
   "outputs": [
    {
     "name": "stdout",
     "output_type": "stream",
     "text": [
      "[0.0005175352096557617, 0.0035347223281860353, 0.017337918281555176, 0.047143077850341795, 0.10015654563903809, 0.18517715930938722, 0.5329189777374268, 1.250091814994812, 2.676521062850952, 4.982424688339234, 8.213848853111267, 12.62488911151886, 18.34369511604309]\n"
     ]
    }
   ],
   "source": [
    "#benchmark_bubblesort.py\n",
    "from benchmark_bubblesort import *\n",
    "print(bubble_avglist)"
   ]
  },
  {
   "cell_type": "markdown",
   "metadata": {},
   "source": [
    "### 2. Benchmarking Merge Sort"
   ]
  },
  {
   "cell_type": "code",
   "execution_count": 11,
   "metadata": {},
   "outputs": [
    {
     "name": "stdout",
     "output_type": "stream",
     "text": [
      "[0.00025501251220703123, 0.0009559392929077148, 0.0035084962844848635, 0.0067250728607177734, 0.010150551795959473, 0.014319992065429688, 0.023320841789245605, 0.03664102554321289, 0.05628972053527832, 0.08112630844116211, 0.11119182109832763, 0.14690690040588378, 0.18816955089569093]\n"
     ]
    }
   ],
   "source": [
    "#benchmark_mergesort.py\n",
    "from benchmark_mergesort import *\n",
    "print(mergesort_avglist)"
   ]
  },
  {
   "cell_type": "markdown",
   "metadata": {},
   "source": [
    "#### 3. Benchmarking Counting Sort"
   ]
  },
  {
   "cell_type": "code",
   "execution_count": 12,
   "metadata": {},
   "outputs": [
    {
     "name": "stdout",
     "output_type": "stream",
     "text": [
      "[4.963874816894531e-05, 0.00015141963958740235, 0.00034148693084716796, 0.0006251335144042969, 0.0010354995727539062, 0.0016505002975463867, 0.0029605865478515626, 0.004445314407348633, 0.006414294242858887, 0.008736896514892577, 0.011652803421020508, 0.014975833892822265, 0.018662023544311523]\n",
      "[4.963874816894531e-05, 0.00015141963958740235, 0.00034148693084716796, 0.0006251335144042969, 0.0010354995727539062, 0.0016505002975463867, 0.0029605865478515626, 0.004445314407348633, 0.006414294242858887, 0.008736896514892577, 0.011652803421020508, 0.014975833892822265, 0.018662023544311523]\n"
     ]
    }
   ],
   "source": [
    "#benchmark_countingsort.py\n",
    "from benchmark_countingsort import *\n",
    "print(countsort_avglist)"
   ]
  },
  {
   "cell_type": "markdown",
   "metadata": {},
   "source": [
    "#### 4. Benchmarking Quick sort"
   ]
  },
  {
   "cell_type": "code",
   "execution_count": 13,
   "metadata": {},
   "outputs": [
    {
     "name": "stdout",
     "output_type": "stream",
     "text": [
      "[0.00041832923889160154, 0.0018306732177734374, 0.004906964302062988, 0.009543943405151366, 0.015650606155395506, 0.023553299903869628, 0.04071865081787109, 0.06754329204559326, 0.1099515438079834, 0.16539888381958007, 0.2358318567276001, 0.32456293106079104, 0.43168656826019286]\n",
      "[0.00041832923889160154, 0.0018306732177734374, 0.004906964302062988, 0.009543943405151366, 0.015650606155395506, 0.023553299903869628, 0.04071865081787109, 0.06754329204559326, 0.1099515438079834, 0.16539888381958007, 0.2358318567276001, 0.32456293106079104, 0.43168656826019286]\n"
     ]
    }
   ],
   "source": [
    "#benchmark_quicksort.py\n",
    "from benchmark_quicksort import *\n",
    "print(quicksort_avglist)"
   ]
  },
  {
   "cell_type": "markdown",
   "metadata": {},
   "source": [
    "#### 5. Benchmarking Insertion sort"
   ]
  },
  {
   "cell_type": "code",
   "execution_count": 14,
   "metadata": {},
   "outputs": [
    {
     "name": "stdout",
     "output_type": "stream",
     "text": [
      "[1.7333030700683594e-05, 5.8984756469726564e-05, 0.00014657974243164061, 0.00027976036071777346, 0.00045504570007324217, 0.0006876468658447265, 0.0012191295623779296, 0.0019711732864379885, 0.002926802635192871, 0.004098820686340332, 0.005549764633178711, 0.007157373428344727, 0.008948302268981934]\n",
      "[1.7333030700683594e-05, 5.8984756469726564e-05, 0.00014657974243164061, 0.00027976036071777346, 0.00045504570007324217, 0.0006876468658447265, 0.0012191295623779296, 0.0019711732864379885, 0.002926802635192871, 0.004098820686340332, 0.005549764633178711, 0.007157373428344727, 0.008948302268981934]\n"
     ]
    }
   ],
   "source": [
    "#benchmark_insertionsort.py\n",
    "from benchmark_insertionsort import *\n",
    "print(insertsort_avglist)"
   ]
  },
  {
   "cell_type": "markdown",
   "metadata": {},
   "source": [
    "#### 6. Benchmarking bogosort"
   ]
  },
  {
   "cell_type": "code",
   "execution_count": 15,
   "metadata": {},
   "outputs": [
    {
     "name": "stdout",
     "output_type": "stream",
     "text": [
      "[1.0514259338378907e-05, 3.437995910644531e-05, 8.599758148193359e-05, 0.00016539096832275392, 0.000271296501159668, 0.00040650367736816406, 0.0006928920745849609, 0.0011782884597778321, 0.0017766475677490235, 0.0025072574615478517, 0.0033887386322021484, 0.0043790340423583984, 0.0055160999298095705]\n",
      "[1.0514259338378907e-05, 3.437995910644531e-05, 8.599758148193359e-05, 0.00016539096832275392, 0.000271296501159668, 0.00040650367736816406, 0.0006928920745849609, 0.0011782884597778321, 0.0017766475677490235, 0.0025072574615478517, 0.0033887386322021484, 0.0043790340423583984, 0.0055160999298095705]\n"
     ]
    }
   ],
   "source": [
    "#benchmark_bogosort.py\n",
    "from benchmark_bogosort import *\n",
    "print(bogosort_avg)"
   ]
  },
  {
   "cell_type": "markdown",
   "metadata": {},
   "source": [
    "### Create a table for the results \n",
    "Using the data from the benchmarking timings for each sorting algorithms, a table was created. The table was created using the pandas libary https://pandas.pydata.org/"
   ]
  },
  {
   "cell_type": "code",
   "execution_count": 16,
   "metadata": {},
   "outputs": [
    {
     "data": {
      "text/html": [
       "<div>\n",
       "<style scoped>\n",
       "    .dataframe tbody tr th:only-of-type {\n",
       "        vertical-align: middle;\n",
       "    }\n",
       "\n",
       "    .dataframe tbody tr th {\n",
       "        vertical-align: top;\n",
       "    }\n",
       "\n",
       "    .dataframe thead th {\n",
       "        text-align: right;\n",
       "    }\n",
       "</style>\n",
       "<table border=\"1\" class=\"dataframe\">\n",
       "  <thead>\n",
       "    <tr style=\"text-align: right;\">\n",
       "      <th></th>\n",
       "      <th>Size</th>\n",
       "      <th>Bubble Sort</th>\n",
       "      <th>Merge Sort</th>\n",
       "      <th>Counting sort</th>\n",
       "      <th>Quick sort</th>\n",
       "      <th>Insertion sort</th>\n",
       "      <th>BogoSort</th>\n",
       "    </tr>\n",
       "  </thead>\n",
       "  <tbody>\n",
       "    <tr>\n",
       "      <th>0</th>\n",
       "      <td>100</td>\n",
       "      <td>0.000518</td>\n",
       "      <td>0.000255</td>\n",
       "      <td>0.000050</td>\n",
       "      <td>0.000418</td>\n",
       "      <td>0.000017</td>\n",
       "      <td>0.000011</td>\n",
       "    </tr>\n",
       "    <tr>\n",
       "      <th>1</th>\n",
       "      <td>250</td>\n",
       "      <td>0.003535</td>\n",
       "      <td>0.000956</td>\n",
       "      <td>0.000151</td>\n",
       "      <td>0.001831</td>\n",
       "      <td>0.000059</td>\n",
       "      <td>0.000034</td>\n",
       "    </tr>\n",
       "    <tr>\n",
       "      <th>2</th>\n",
       "      <td>500</td>\n",
       "      <td>0.017338</td>\n",
       "      <td>0.003508</td>\n",
       "      <td>0.000341</td>\n",
       "      <td>0.004907</td>\n",
       "      <td>0.000147</td>\n",
       "      <td>0.000086</td>\n",
       "    </tr>\n",
       "    <tr>\n",
       "      <th>3</th>\n",
       "      <td>750</td>\n",
       "      <td>0.047143</td>\n",
       "      <td>0.006725</td>\n",
       "      <td>0.000625</td>\n",
       "      <td>0.009544</td>\n",
       "      <td>0.000280</td>\n",
       "      <td>0.000165</td>\n",
       "    </tr>\n",
       "    <tr>\n",
       "      <th>4</th>\n",
       "      <td>1000</td>\n",
       "      <td>0.100157</td>\n",
       "      <td>0.010151</td>\n",
       "      <td>0.001035</td>\n",
       "      <td>0.015651</td>\n",
       "      <td>0.000455</td>\n",
       "      <td>0.000271</td>\n",
       "    </tr>\n",
       "    <tr>\n",
       "      <th>5</th>\n",
       "      <td>1250</td>\n",
       "      <td>0.185177</td>\n",
       "      <td>0.014320</td>\n",
       "      <td>0.001651</td>\n",
       "      <td>0.023553</td>\n",
       "      <td>0.000688</td>\n",
       "      <td>0.000407</td>\n",
       "    </tr>\n",
       "    <tr>\n",
       "      <th>6</th>\n",
       "      <td>2500</td>\n",
       "      <td>0.532919</td>\n",
       "      <td>0.023321</td>\n",
       "      <td>0.002961</td>\n",
       "      <td>0.040719</td>\n",
       "      <td>0.001219</td>\n",
       "      <td>0.000693</td>\n",
       "    </tr>\n",
       "    <tr>\n",
       "      <th>7</th>\n",
       "      <td>3570</td>\n",
       "      <td>1.250092</td>\n",
       "      <td>0.036641</td>\n",
       "      <td>0.004445</td>\n",
       "      <td>0.067543</td>\n",
       "      <td>0.001971</td>\n",
       "      <td>0.001178</td>\n",
       "    </tr>\n",
       "    <tr>\n",
       "      <th>8</th>\n",
       "      <td>5000</td>\n",
       "      <td>2.676521</td>\n",
       "      <td>0.056290</td>\n",
       "      <td>0.006414</td>\n",
       "      <td>0.109952</td>\n",
       "      <td>0.002927</td>\n",
       "      <td>0.001777</td>\n",
       "    </tr>\n",
       "    <tr>\n",
       "      <th>9</th>\n",
       "      <td>6250</td>\n",
       "      <td>4.982425</td>\n",
       "      <td>0.081126</td>\n",
       "      <td>0.008737</td>\n",
       "      <td>0.165399</td>\n",
       "      <td>0.004099</td>\n",
       "      <td>0.002507</td>\n",
       "    </tr>\n",
       "    <tr>\n",
       "      <th>10</th>\n",
       "      <td>7500</td>\n",
       "      <td>8.213849</td>\n",
       "      <td>0.111192</td>\n",
       "      <td>0.011653</td>\n",
       "      <td>0.235832</td>\n",
       "      <td>0.005550</td>\n",
       "      <td>0.003389</td>\n",
       "    </tr>\n",
       "    <tr>\n",
       "      <th>11</th>\n",
       "      <td>8750</td>\n",
       "      <td>12.624889</td>\n",
       "      <td>0.146907</td>\n",
       "      <td>0.014976</td>\n",
       "      <td>0.324563</td>\n",
       "      <td>0.007157</td>\n",
       "      <td>0.004379</td>\n",
       "    </tr>\n",
       "    <tr>\n",
       "      <th>12</th>\n",
       "      <td>10000</td>\n",
       "      <td>18.343695</td>\n",
       "      <td>0.188170</td>\n",
       "      <td>0.018662</td>\n",
       "      <td>0.431687</td>\n",
       "      <td>0.008948</td>\n",
       "      <td>0.005516</td>\n",
       "    </tr>\n",
       "  </tbody>\n",
       "</table>\n",
       "</div>"
      ],
      "text/plain": [
       "     Size  Bubble Sort  Merge Sort  Counting sort  Quick sort  Insertion sort  \\\n",
       "0     100     0.000518    0.000255       0.000050    0.000418        0.000017   \n",
       "1     250     0.003535    0.000956       0.000151    0.001831        0.000059   \n",
       "2     500     0.017338    0.003508       0.000341    0.004907        0.000147   \n",
       "3     750     0.047143    0.006725       0.000625    0.009544        0.000280   \n",
       "4    1000     0.100157    0.010151       0.001035    0.015651        0.000455   \n",
       "5    1250     0.185177    0.014320       0.001651    0.023553        0.000688   \n",
       "6    2500     0.532919    0.023321       0.002961    0.040719        0.001219   \n",
       "7    3570     1.250092    0.036641       0.004445    0.067543        0.001971   \n",
       "8    5000     2.676521    0.056290       0.006414    0.109952        0.002927   \n",
       "9    6250     4.982425    0.081126       0.008737    0.165399        0.004099   \n",
       "10   7500     8.213849    0.111192       0.011653    0.235832        0.005550   \n",
       "11   8750    12.624889    0.146907       0.014976    0.324563        0.007157   \n",
       "12  10000    18.343695    0.188170       0.018662    0.431687        0.008948   \n",
       "\n",
       "    BogoSort  \n",
       "0   0.000011  \n",
       "1   0.000034  \n",
       "2   0.000086  \n",
       "3   0.000165  \n",
       "4   0.000271  \n",
       "5   0.000407  \n",
       "6   0.000693  \n",
       "7   0.001178  \n",
       "8   0.001777  \n",
       "9   0.002507  \n",
       "10  0.003389  \n",
       "11  0.004379  \n",
       "12  0.005516  "
      ]
     },
     "execution_count": 16,
     "metadata": {},
     "output_type": "execute_result"
    }
   ],
   "source": [
    "import pandas as pd\n",
    "import numpy as np\n",
    "\n",
    "df = pd.DataFrame(columns = ['Size','Bubble Sort', 'Merge Sort', 'Counting sort', 'Quick sort', 'Insertion sort', 'BogoSort'])\n",
    "\n",
    "df['Size'] = [100, 250, 500, 750, 1000, 1250, 2500, 3570, 5000, 6250, 7500, 8750, 10000]\n",
    "\n",
    "df['Bubble Sort'] = bubble_avglist\n",
    "df['Merge Sort'] = mergesort_avglist\n",
    "df['Counting sort'] = countsort_avglist\n",
    "df['Quick sort'] = quicksort_avglist\n",
    "df['Insertion sort'] = insertsort_avglist\n",
    "df['BogoSort'] = bogosort_avg\n",
    "\n",
    "df"
   ]
  },
  {
   "cell_type": "markdown",
   "metadata": {},
   "source": [
    "### Summary Statistics\n",
    "Summary statistics can give an elegent overview of your data. You can clearly see that the slowest algorithm was Bubble Sort."
   ]
  },
  {
   "cell_type": "code",
   "execution_count": 17,
   "metadata": {},
   "outputs": [
    {
     "data": {
      "text/html": [
       "<div>\n",
       "<style scoped>\n",
       "    .dataframe tbody tr th:only-of-type {\n",
       "        vertical-align: middle;\n",
       "    }\n",
       "\n",
       "    .dataframe tbody tr th {\n",
       "        vertical-align: top;\n",
       "    }\n",
       "\n",
       "    .dataframe thead th {\n",
       "        text-align: right;\n",
       "    }\n",
       "</style>\n",
       "<table border=\"1\" class=\"dataframe\">\n",
       "  <thead>\n",
       "    <tr style=\"text-align: right;\">\n",
       "      <th></th>\n",
       "      <th>count</th>\n",
       "      <th>mean</th>\n",
       "      <th>std</th>\n",
       "      <th>min</th>\n",
       "      <th>25%</th>\n",
       "      <th>50%</th>\n",
       "      <th>75%</th>\n",
       "      <th>max</th>\n",
       "    </tr>\n",
       "  </thead>\n",
       "  <tbody>\n",
       "    <tr>\n",
       "      <th>Size</th>\n",
       "      <td>13.0</td>\n",
       "      <td>3647.692308</td>\n",
       "      <td>3492.179725</td>\n",
       "      <td>100.000000</td>\n",
       "      <td>750.000000</td>\n",
       "      <td>2500.000000</td>\n",
       "      <td>6250.000000</td>\n",
       "      <td>10000.000000</td>\n",
       "    </tr>\n",
       "    <tr>\n",
       "      <th>Bubble Sort</th>\n",
       "      <td>13.0</td>\n",
       "      <td>3.767558</td>\n",
       "      <td>5.864439</td>\n",
       "      <td>0.000518</td>\n",
       "      <td>0.047143</td>\n",
       "      <td>0.532919</td>\n",
       "      <td>4.982425</td>\n",
       "      <td>18.343695</td>\n",
       "    </tr>\n",
       "    <tr>\n",
       "      <th>Merge Sort</th>\n",
       "      <td>13.0</td>\n",
       "      <td>0.052274</td>\n",
       "      <td>0.061801</td>\n",
       "      <td>0.000255</td>\n",
       "      <td>0.006725</td>\n",
       "      <td>0.023321</td>\n",
       "      <td>0.081126</td>\n",
       "      <td>0.188170</td>\n",
       "    </tr>\n",
       "    <tr>\n",
       "      <th>Counting sort</th>\n",
       "      <td>13.0</td>\n",
       "      <td>0.005515</td>\n",
       "      <td>0.006213</td>\n",
       "      <td>0.000050</td>\n",
       "      <td>0.000625</td>\n",
       "      <td>0.002961</td>\n",
       "      <td>0.008737</td>\n",
       "      <td>0.018662</td>\n",
       "    </tr>\n",
       "    <tr>\n",
       "      <th>Quick sort</th>\n",
       "      <td>13.0</td>\n",
       "      <td>0.110123</td>\n",
       "      <td>0.140310</td>\n",
       "      <td>0.000418</td>\n",
       "      <td>0.009544</td>\n",
       "      <td>0.040719</td>\n",
       "      <td>0.165399</td>\n",
       "      <td>0.431687</td>\n",
       "    </tr>\n",
       "    <tr>\n",
       "      <th>Insertion sort</th>\n",
       "      <td>13.0</td>\n",
       "      <td>0.002578</td>\n",
       "      <td>0.002989</td>\n",
       "      <td>0.000017</td>\n",
       "      <td>0.000280</td>\n",
       "      <td>0.001219</td>\n",
       "      <td>0.004099</td>\n",
       "      <td>0.008948</td>\n",
       "    </tr>\n",
       "    <tr>\n",
       "      <th>BogoSort</th>\n",
       "      <td>13.0</td>\n",
       "      <td>0.001570</td>\n",
       "      <td>0.001840</td>\n",
       "      <td>0.000011</td>\n",
       "      <td>0.000165</td>\n",
       "      <td>0.000693</td>\n",
       "      <td>0.002507</td>\n",
       "      <td>0.005516</td>\n",
       "    </tr>\n",
       "  </tbody>\n",
       "</table>\n",
       "</div>"
      ],
      "text/plain": [
       "                count         mean          std         min         25%  \\\n",
       "Size             13.0  3647.692308  3492.179725  100.000000  750.000000   \n",
       "Bubble Sort      13.0     3.767558     5.864439    0.000518    0.047143   \n",
       "Merge Sort       13.0     0.052274     0.061801    0.000255    0.006725   \n",
       "Counting sort    13.0     0.005515     0.006213    0.000050    0.000625   \n",
       "Quick sort       13.0     0.110123     0.140310    0.000418    0.009544   \n",
       "Insertion sort   13.0     0.002578     0.002989    0.000017    0.000280   \n",
       "BogoSort         13.0     0.001570     0.001840    0.000011    0.000165   \n",
       "\n",
       "                        50%          75%           max  \n",
       "Size            2500.000000  6250.000000  10000.000000  \n",
       "Bubble Sort        0.532919     4.982425     18.343695  \n",
       "Merge Sort         0.023321     0.081126      0.188170  \n",
       "Counting sort      0.002961     0.008737      0.018662  \n",
       "Quick sort         0.040719     0.165399      0.431687  \n",
       "Insertion sort     0.001219     0.004099      0.008948  \n",
       "BogoSort           0.000693     0.002507      0.005516  "
      ]
     },
     "execution_count": 17,
     "metadata": {},
     "output_type": "execute_result"
    }
   ],
   "source": [
    "summary = df.describe()\n",
    "summary = summary.transpose()\n",
    "summary"
   ]
  },
  {
   "cell_type": "markdown",
   "metadata": {
    "collapsed": true
   },
   "source": [
    "### Plotting the sorting algorithms timings in a graph\n",
    "Seaborn https://seaborn.pydata.org/ and Matplotlib https://matplotlib.org/ were used to generate a data visualisation of the algorithms\n"
   ]
  },
  {
   "cell_type": "code",
   "execution_count": 21,
   "metadata": {},
   "outputs": [
    {
     "data": {
      "image/png": "[encoded data removed]",
      "text/plain": [
       "<matplotlib.figure.Figure at 0x117dc8c88>"
      ]
     },
     "metadata": {},
     "output_type": "display_data"
    }
   ],
   "source": [
    "import seaborn as sns\n",
    "import matplotlib.pyplot as plt\n",
    "sns.set(style=\"whitegrid\", palette=\"husl\", rc={'figure.figsize':(14,30)})\n",
    "\n",
    "title=\"Benchmarking Sorting Algorithms\"\n",
    "\n",
    "\n",
    "# Bubble Sort\n",
    "bubble = sns.lineplot( x=\"Size\", y=\"Bubble Sort\", data=df, marker='o', label='Bubble Sort')\n",
    "# Merge sort\n",
    "merge = sns.lineplot( x=\"Size\", y=\"Merge Sort\", data=df, marker='o', label='Merge Sort')\n",
    "# Counting sort\n",
    "counting = sns.lineplot( x=\"Size\", y=\"Counting sort\", marker='o', data=df, label=\"Counting Sort\")\n",
    "# Quick sort\n",
    "quick = sns.lineplot( x=\"Size\", y=\"Quick sort\", data=df, marker='o',label=\"Quick Sort\")\n",
    "# Insertion sort\n",
    "insert = sns.lineplot( x=\"Size\", y=\"Insertion sort\", data=df, marker='o', label=\"Insertion Sort\")\n",
    "\n",
    "# BogoSort\n",
    "bogo = sns.lineplot( x=\"Size\", y=\"BogoSort\", data=df, marker='o', label=\"BogoSort\")\n",
    "\n",
    "\n",
    "plt.xlabel('Size of Random Numbers', fontsize=16)\n",
    "plt.ylabel('Running Time in seconds',fontsize=16)\n",
    "\n",
    "# Increasing font size\n",
    "plt.title(title, fontsize=26)\n",
    "\n",
    "# Show the plot\n",
    "plt.show()"
   ]
  },
  {
   "cell_type": "code",
   "execution_count": 39,
   "metadata": {},
   "outputs": [
    {
     "data": {
      "image/png": "[encoded data removed]",
      "text/plain": [
       "<matplotlib.figure.Figure at 0x117db3160>"
      ]
     },
     "metadata": {},
     "output_type": "display_data"
    }
   ],
   "source": [
    "import seaborn as sns\n",
    "import matplotlib.pyplot as plt\n",
    "sns.set(style=\"whitegrid\", palette=\"husl\", rc={'figure.figsize':(14,14)})\n",
    "\n",
    "title=\"Benchmarking Sorting Algorithms (closer look)\"\n",
    "\n",
    "\n",
    "# Bubble Sort\n",
    "#bubble = sns.lineplot( x=\"Size\", y=\"Bubble Sort\", data=df, marker='o', label='Bubble Sort')\n",
    "# Merge sort\n",
    "merge = sns.lineplot( x=\"Size\", y=\"Merge Sort\", data=df, marker='o', label='Merge Sort')\n",
    "# Counting sort\n",
    "counting = sns.lineplot( x=\"Size\", y=\"Counting sort\", marker='o', data=df, label=\"Counting Sort\")\n",
    "# Quick sort\n",
    "quick = sns.lineplot( x=\"Size\", y=\"Quick sort\", data=df, marker='o',label=\"Quick Sort\")\n",
    "# Insertion sort\n",
    "insert = sns.lineplot( x=\"Size\", y=\"Insertion sort\", data=df, marker='o', label=\"Insertion Sort\")\n",
    "\n",
    "# BogoSort\n",
    "bogo = sns.lineplot( x=\"Size\", y=\"BogoSort\", data=df, marker='o', label=\"BogoSort\")\n",
    "\n",
    "\n",
    "plt.xlabel('Size of Random Numbers', fontsize=16)\n",
    "plt.ylabel('Running Time in seconds',fontsize=16)\n",
    "\n",
    "# Increasing font size\n",
    "plt.title(title, fontsize=26)\n",
    "\n",
    "\n",
    "# Show the plot\n",
    "plt.show()"
   ]
  },
  {
   "cell_type": "markdown",
   "metadata": {},
   "source": [
    "## Conclusion\n",
    "\n",
    "Discuss how the measured performance of the algorithms differed – were the\n",
    "results similar to what you would expect, given the time complexity of each chosen algorithm?"
   ]
  },
  {
   "cell_type": "markdown",
   "metadata": {},
   "source": [
    "As you can see from the above graph, the slowest algorithm was Bubble Sort which was expected as it has the worst-case and average complexity of О(n2), where n is the number of items being sorted. It is the least practical algorithm and should be not be used in real life to solve problems."
   ]
  }
 ],
 "metadata": {
  "kernelspec": {
   "display_name": "Python 3",
   "language": "python",
   "name": "python3"
  },
  "language_info": {
   "codemirror_mode": {
    "name": "ipython",
    "version": 3
   },
   "file_extension": ".py",
   "mimetype": "text/x-python",
   "name": "python",
   "nbconvert_exporter": "python",
   "pygments_lexer": "ipython3",
   "version": "3.6.8"
  }
 },
 "nbformat": 4,
 "nbformat_minor": 2
}
