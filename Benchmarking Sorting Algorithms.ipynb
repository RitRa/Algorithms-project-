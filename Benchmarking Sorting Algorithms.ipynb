{
 "cells": [
  {
   "cell_type": "markdown",
   "metadata": {
    "collapsed": true
   },
   "source": [
    "# Introduction"
   ]
  },
  {
   "cell_type": "markdown",
   "metadata": {},
   "source": [
    "Sorting is organising data in ascending or descending order. This project will take a comparative look at 6 sorting algorithms (Bubble Sort, Merge Sort, Counting Sort, Quick Sort, Insertion Sort, BogoSort). It is in two parts, firstly an overview of each algorithm and lastly the benchmarking application of the sorting algorithms.\n",
    "\n",
    "### Sorting Algorithms Overview:\n",
    "1. How it works \n",
    "2. Performance or Time complexity. Time Complexity is the computational complexity that describes the amount of time it takes to run an algorithm. (source: https://en.wikipedia.org/wiki/Time_complexity)\n",
    "3. An example diagram of how it works\n",
    "4. A python example of the selected algorithm (with comments) \n",
    "\n",
    "This project will also highlight the different sorting methods used in each algorithm whether the are comparison based or non-comparison based. \n",
    "\n",
    "### The Benchmarking Application\n",
    "\n",
    "Using python(https://www.python.org/), random number arrays were created ranging in sizes from 100 to 50,000. The sorting algorithms will each run through the arrays and the timings will be captured using Python’s time module (https://docs.python.org/3/library/time.html). These timings are collected into a table, using the library pandas tables https://pandas.pydata.org/. The timings will be benchmarked against one another in a plot using Seaborn https://seaborn.pydata.org/ and Matplotlib https://matplotlib.org/. \n",
    "\n",
    "The result of the benchmarking sorting algorithm application are discussed to see if they matched the expected output. \n",
    " \n",
    "This project is written using a Jupyter notebook (https://jupyter.org/) using external python files."
   ]
  },
  {
   "cell_type": "markdown",
   "metadata": {},
   "source": [
    "# Sorting Algorithms\n"
   ]
  },
  {
   "cell_type": "markdown",
   "metadata": {},
   "source": [
    "## 1. Bubble Sort (A simple comparison-based sort)\n",
    "\n",
    "Bubble sort is a simple sorting algorithm. source:https://en.wikipedia.org/wiki/Bubble_sort Named for the way larger values bubble up to the top. It is a comparison based sorting algorithm as it steps through the list, compares and swaps adjacent pairs if they are in the wrong order.\n",
    "\n",
    "How it works:\n",
    "1. It starts at the beginning of the dataset and compares the first two elements and if the first is greater it will swap them. \n",
    "2. It will continue doing this until no swaps are needed.\n",
    "\n",
    "#### Performance\n",
    "Bubble sort has a worst-case and average time complexity of О(n2), where n is the number of items being sorted. \n",
    "When the list is already sorted (best-case), the complexity of bubble sort is only O(n). \n",
    "In the case of a large dataset, Bubble sort should be avoided. It is not very practical or efficient and rarely used in the real world.\n",
    "\n",
    "Bubble sort in action https://www.youtube.com/watch?v=lyZQPjUT5B4&feature=youtu.be\n",
    "\n",
    "#### Bubble Sort Diagram\n",
    "\n",
    "![title](bubblesort.png)"
   ]
  },
  {
   "cell_type": "code",
   "execution_count": 17,
   "metadata": {},
   "outputs": [
    {
     "name": "stdout",
     "output_type": "stream",
     "text": [
      "[17, 26, 54, 77, 93]\n"
     ]
    }
   ],
   "source": [
    "# code sourced from http://interactivepython.org/runestone/static/pythonds/SortSearch/TheBubbleSort.html\n",
    "\n",
    "# calls a function bubblesort\n",
    "def bubbleSort(alist):\n",
    "    for passnum in range(len(alist)-1,0,-1):\n",
    "        for i in range(passnum):\n",
    "            if alist[i]>alist[i+1]:\n",
    "                temp = alist[i]\n",
    "                alist[i] = alist[i+1]\n",
    "                alist[i+1] = temp\n",
    "\n",
    "alist = [54,26,93,17,77]\n",
    "\n",
    "bubbleSort(alist)\n",
    "\n",
    "print(alist)"
   ]
  },
  {
   "cell_type": "markdown",
   "metadata": {},
   "source": [
    "## 2. Merge Sort (An efficient comparison-based sort)\n",
    "\n",
    "Merge sort is a recursive divide and conquer algorithm that was invented by John von Neumann in 1945. This algorithm breaks down the array into a sublists until there is just a single element left and merging them back together until they are sorted. (https://en.wikipedia.org/wiki/Merge_sort)\n",
    "\n",
    "How it works:\n",
    "1. It starts by breaking down the list into sublists until each sublists contains just one element. \n",
    "2. Repeatedly merging the sublists to produce new sorted sublists until there is only one sublist remaining.\n",
    "\n",
    "#### Performance\n",
    "In sorting n objects, merge sort has an average and worst-case performance of O(n log n). It's best, worst and average cases are very similar, making it a good choice for predictable running behaviour. (Source: P.Mannion (2019)Week 10: Sorting Algorithms Part 3, Galway-Mayo Institute of Technology )\n",
    "\n",
    "Merge sort in action:\n",
    "https://www.youtube.com/watch?v=XaqR3G_NVoo\n",
    "\n",
    "\n",
    "#### Merge Sort Diagram\n",
    "\n",
    "![title](mergesort.png)"
   ]
  },
  {
   "cell_type": "code",
   "execution_count": 18,
   "metadata": {},
   "outputs": [
    {
     "name": "stdout",
     "output_type": "stream",
     "text": [
      "[17, 20, 26, 31, 44, 54, 55, 77, 93]\n"
     ]
    }
   ],
   "source": [
    "# code sourced from http://interactivepython.org/runestone/static/pythonds/SortSearch/TheMergeSort.html\n",
    "\n",
    "def mergeSort(alist):\n",
    "    # print(\"Splitting \",alist)\n",
    "    # if the array is greater than 1 then\n",
    "    if len(alist)>1:\n",
    "        # mid is length of array divided 2\n",
    "        mid = len(alist)//2\n",
    "        # left half is equal to the first slice\n",
    "        lefthalf = alist[:mid]\n",
    "        # left half is equal to the second slice\n",
    "        righthalf = alist[mid:]\n",
    "        \n",
    "        # call merge sort again for the left half\n",
    "        mergeSort(lefthalf)\n",
    "        \n",
    "        # call merge sort again for the right half\n",
    "        mergeSort(righthalf)\n",
    "\n",
    "        i=0\n",
    "        j=0\n",
    "        k=0\n",
    "        \n",
    "        # copy to temp arrays lefthalf and righhalf\n",
    "        while i < len(lefthalf) and j < len(righthalf):\n",
    "            if lefthalf[i] < righthalf[j]:\n",
    "                alist[k]=lefthalf[i]\n",
    "                i=i+1\n",
    "            else:\n",
    "                alist[k]=righthalf[j]\n",
    "                j=j+1\n",
    "            k=k+1\n",
    "         \n",
    "       #  \n",
    "        while i < len(lefthalf):\n",
    "            alist[k]=lefthalf[i]\n",
    "            i=i+1\n",
    "            k=k+1\n",
    "\n",
    "        while j < len(righthalf):\n",
    "            alist[k]=righthalf[j]\n",
    "            j=j+1\n",
    "            k=k+1\n",
    "    #print(\"Merging \",alist)\n",
    "\n",
    "alist = [54,26,93,17,77,31,44,55,20]\n",
    "mergeSort(alist)\n",
    "print(alist)"
   ]
  },
  {
   "cell_type": "markdown",
   "metadata": {},
   "source": [
    "## 3. Counting Sort (A non-comparison sort)\n",
    "\n",
    "Invented by Harold H. Seward in 1954(source: https://en.wikipedia.org/wiki/Counting_sort.) Counting sort is a technique based on key values(kind of hashing). Then doing some arithemtic to calculate the position of the each object in the output sequence. (https://www.geeksforgeeks.org/counting-sort/) \n",
    "\n",
    "How it works (Source: P.Mannion (2019)Week 10: Sorting Algorithms Part 3, Galway-Mayo Institute of Technology )\n",
    ":\n",
    "\n",
    "1. Determine key range k in the input array(if not already known)\n",
    "2. Initialise an array count size k, which will be used to count the number of times that each key value appears in the input instance.\n",
    "3. Initialise an array result of size n, which will be used to store the sorted output.\n",
    "4. Iterate through the input array, and record the number of times each distinct key values occurs in the input instance.\n",
    "5. Construct the sorted result array, based on the histogram of key frequencies stored in count. Refer to the ordering of keys in input to ensure that stability is preserved.\n",
    "\n",
    "#### Performance\n",
    "\n",
    "Best-, worst- and average-case time complexity of n +k, space complexity is also n+k (Source: P.Mannion (2019)Week 10: Sorting Algorithms Part 3, Galway-Mayo Institute of Technology )\n",
    "\n",
    "#### Counting Sort Diagram\n",
    "\n",
    "![title](countsort.png)"
   ]
  },
  {
   "cell_type": "code",
   "execution_count": 19,
   "metadata": {},
   "outputs": [
    {
     "name": "stdout",
     "output_type": "stream",
     "text": [
      "[17, 20, 26, 31, 44, 54, 55, 77, 93]\n"
     ]
    }
   ],
   "source": [
    "# code sourced http://www.learntosolveit.com/python/algorithm_countingsort.html\n",
    "def counting_sort(array, maxval):\n",
    "    \"\"\"in-place counting sort\"\"\"\n",
    "    n = len(array)\n",
    "    m = maxval + 1\n",
    "    count = [0] * m               # init with zeros\n",
    "    for a in array:\n",
    "        count[a] += 1             # count occurences\n",
    "    i = 0\n",
    "    for a in range(m):            # emit\n",
    "        for c in range(count[a]): # - emit 'count[a]' copies of 'a'\n",
    "            array[i] = a\n",
    "            i += 1\n",
    "    return array\n",
    "\n",
    "print(counting_sort( alist, 93 ))"
   ]
  },
  {
   "cell_type": "markdown",
   "metadata": {},
   "source": [
    "## 4. Quick Sort\n",
    "\n",
    "Quicksort was developed by British computer scientist Tony Hoare in 1959. It is a recursive divide and conquer algorithm. Due to it's efficiency, it is still a commonly used algorithm for sorting.(https://en.wikipedia.org/wiki/Quicksort)\n",
    "\n",
    "How it works (Source: P.Mannion (2019) Week 10: Sorting Algorithms Part 3, Galway-Mayo Institute of Technology):\n",
    "1. Pivot selection: Pick an element, called a “pivot” from the array\n",
    "2. Partioning: reorder the array elements with values < the pivot come before it, which all elements the values ≥ than the pivot come after it. After this partioining, the pivot is in its final position.\n",
    "3. Recursion: apply steps 1 and 2 above recursively to each of the two subarrays\n",
    "\n",
    "#### Performance\n",
    "\n",
    "It has a worst case n^2 (rare), average case n log n, best case n log n\n",
    "Memory usage: O(n) (variants exist with O (n log n)) (Source: P.Mannion (2019) Week 10: Sorting Algorithms Part 3, Galway-Mayo Institute of Technology):\n",
    "\n",
    "#### Quick Sort Diagram\n",
    "\n",
    "![title](quicksort.png)"
   ]
  },
  {
   "cell_type": "code",
   "execution_count": 20,
   "metadata": {},
   "outputs": [
    {
     "name": "stdout",
     "output_type": "stream",
     "text": [
      "[17, 20, 26, 31, 44, 54, 55, 77, 93]\n"
     ]
    }
   ],
   "source": [
    "# http://interactivepython.org/runestone/static/pythonds/SortSearch/TheQuickSort.html\n",
    "\n",
    "def quickSort(alist):\n",
    "   quickSortHelper(alist,0,len(alist)-1)\n",
    "\n",
    "def quickSortHelper(alist,first,last):\n",
    "   if first<last:\n",
    "\n",
    "       splitpoint = partition(alist,first,last)\n",
    "\n",
    "       quickSortHelper(alist,first,splitpoint-1)\n",
    "       quickSortHelper(alist,splitpoint+1,last)\n",
    "\n",
    "\n",
    "def partition(alist,first,last):\n",
    "   pivotvalue = alist[first]\n",
    "\n",
    "   leftmark = first+1\n",
    "   rightmark = last\n",
    "\n",
    "   done = False\n",
    "   while not done:\n",
    "\n",
    "       while leftmark <= rightmark and alist[leftmark] <= pivotvalue:\n",
    "           leftmark = leftmark + 1\n",
    "\n",
    "       while alist[rightmark] >= pivotvalue and rightmark >= leftmark:\n",
    "           rightmark = rightmark -1\n",
    "\n",
    "       if rightmark < leftmark:\n",
    "           done = True\n",
    "       else:\n",
    "           temp = alist[leftmark]\n",
    "           alist[leftmark] = alist[rightmark]\n",
    "           alist[rightmark] = temp\n",
    "\n",
    "   temp = alist[first]\n",
    "   alist[first] = alist[rightmark]\n",
    "   alist[rightmark] = temp\n",
    "\n",
    "\n",
    "   return rightmark\n",
    "\n",
    "# alist = [54,26,93,17,77,31,44,55,20]\n",
    "quickSort(alist)\n",
    "print(alist)\n"
   ]
  },
  {
   "cell_type": "markdown",
   "metadata": {
    "collapsed": true
   },
   "source": [
    "## 5. Insertion Sort\n",
    "\n",
    "Insertion sort is a simple sorting algorithm that builds the final sorted array (or list) one item at a time. It is much less efficient on large lists than more advanced algorithms such as quicksort, heapsort, or merge sort. (https://en.wikipedia.org/wiki/Insertion_sort) It sorts similar to the way card players sort their cards in their hand (Source: P.Mannion (2019) Week 10: Sorting Algorithms Part 2, Galway-Mayo Institute of Technology)\n",
    "\n",
    "How it works (Source: P.Mannion (2019) Week 10: Sorting Algorithms Part 2, Galway-Mayo Institute of Technology):\n",
    "1. Start from the left of the array, and set the “key” as the element at index 1.Move any elements to the left which are > the “key” right by one position, and insert the “key”.\n",
    "2. Set the “Key” as the element at index 2. Move any elements to the left which are > the key right by one position and insert the key.\n",
    "3. Set the “key” as the element at the index 3. Move any elements to the left which are > the key right by one position and index the key.\n",
    "4. …\n",
    "5. Set the “key” as the elements at index n-1. Move any elements to the left which are > the key right by one position and insert the key.\n",
    "\n",
    "\n",
    "https://www.youtube.com/watch?v=ROalU379l3U\n",
    "\n",
    "#### Performance\n",
    "\n",
    "This algorithm works well on small lists and lists that are close to sorted. The best case is an array that is already sorted. In this case, insertsion sort would have a run time of O(n). Worst case would be that no numbers are sorted, giving a run time of O(n2). The average is also O(n2). https://en.wikipedia.org/wiki/Insertion_sort \n",
    "\n",
    "####  Insertion Sort Diagram\n",
    "\n",
    "\n",
    "![title](insertionsort.png)"
   ]
  },
  {
   "cell_type": "code",
   "execution_count": 21,
   "metadata": {},
   "outputs": [
    {
     "name": "stdout",
     "output_type": "stream",
     "text": [
      "[17, 20, 26, 31, 44, 54, 55, 77, 93]\n"
     ]
    }
   ],
   "source": [
    "def insertionSort(alist):\n",
    "   for index in range(1,len(alist)):\n",
    "\n",
    "     currentvalue = alist[index]\n",
    "     position = index\n",
    "\n",
    "     while position>0 and alist[position-1]>currentvalue:\n",
    "         alist[position]=alist[position-1]\n",
    "         position = position-1\n",
    "\n",
    "     alist[position]=currentvalue\n",
    "\n",
    "alist = [54,26,93,17,77,31,44,55,20]\n",
    "insertionSort(alist)\n",
    "print(alist)"
   ]
  },
  {
   "cell_type": "markdown",
   "metadata": {},
   "source": [
    "## 6. BogoSort\n",
    "\n",
    "Bogosort is a highly inefficient sorting algorithm. Also known as slowsort, https://en.wikipedia.org/wiki/Bogosort\n",
    "\n",
    "How it works:\n",
    "1. It randomly shuffles the array until it is sorted.\n",
    "\n",
    "\n",
    "#### Performance\n",
    "The best case occurs if the list as given is already sorted. \n",
    "\n",
    "\n",
    "https://www.youtube.com/watch?v=CSe0MWDLevA\n",
    "#### BogoSort Diagram\n",
    "\n",
    "\n",
    "![title](bogosort.png)"
   ]
  },
  {
   "cell_type": "code",
   "execution_count": 22,
   "metadata": {},
   "outputs": [
    {
     "name": "stdout",
     "output_type": "stream",
     "text": [
      "[17, 20, 26, 31, 44, 54, 55, 77, 93]\n"
     ]
    }
   ],
   "source": [
    "# Python program for implementation of Bogo Sort \n",
    "import random \n",
    "# Sorts array a[0..n-1] using Bogo sort \n",
    "def bogoSort(alist): \n",
    "    n = len(alist) \n",
    "    while (is_sorted(alist)== False): \n",
    "        shuffle(alist) \n",
    "  \n",
    "# To check if array is sorted or not \n",
    "def is_sorted(alist): \n",
    "    n = len(alist) \n",
    "    for i in range(0, n-1): \n",
    "        if (alist[i] > alist[i+1] ): \n",
    "            return False\n",
    "    return True\n",
    "  \n",
    "# To generate permuatation of the array \n",
    "def shuffle(alist): \n",
    "    n = len(alist) \n",
    "    for i in range (0,n): \n",
    "        r = random.randint(0,n-1) \n",
    "        alist[i], alist[r] = alist[r], alist[i]\n",
    "\n",
    "        \n",
    "alist = [54,26,93,17,77,31,44,55,20]\n",
    "bogoSort(alist)\n",
    "print(alist)"
   ]
  },
  {
   "cell_type": "markdown",
   "metadata": {},
   "source": [
    "# Implementation & Benchmarking"
   ]
  },
  {
   "cell_type": "markdown",
   "metadata": {},
   "source": [
    "For this section, a function will be defined to call each sorting function defined above\n",
    "1. Bubble Sort\n",
    "2. Merge Sort\n",
    "3. Counting Sort\n",
    "4. Quick Sort\n",
    "5. Insertion Sort\n",
    "6. Bogosort\n",
    "\n",
    "Firstly, arrays are generated with random numbers using randint from the python's random library (https://docs.python.org/2/library/random.html). These will be used to test the speed of efficiency of the algorithms."
   ]
  },
  {
   "cell_type": "code",
   "execution_count": 23,
   "metadata": {
    "collapsed": true
   },
   "outputs": [],
   "source": [
    "# code sourced from project example\n",
    "\n",
    "# Creating an array using randint\n",
    "from random import *\n",
    "\n",
    "# creating a random array, function takes in n numbers\n",
    "def random_array(n):\n",
    "    # create an array variable\n",
    "    array = []\n",
    "    # if n = 5, 0,1,2,3,4\n",
    "    for i in range(0, n, 1):\n",
    "        # add to the array random integers between 0 and 100\n",
    "        array.append(randint(0,100))\n",
    "    return array\n",
    "\n",
    "\n",
    "# assign the random array to alist\n",
    "alist = random_array(100)\n",
    "alist1 = random_array(250)\n",
    "alist2 = random_array(500)\n",
    "alist3 = random_array(750)\n",
    "alist4 = random_array(1000)\n",
    "alist5 = random_array(1250)\n",
    "alist6 = random_array(2500)\n",
    "alist7 = random_array(3570)\n",
    "alist8 = random_array(5000)\n",
    "alist9 = random_array(6250)\n",
    "alist10 = random_array(7500)\n",
    "alist11 = random_array(8750)\n",
    "alist12 = random_array(10000)"
   ]
  },
  {
   "cell_type": "markdown",
   "metadata": {},
   "source": [
    "# Benchmarking Multiple Statistical Runs\n",
    "Reference Week 12 - 08 to 12 April 2019 lecture notes"
   ]
  },
  {
   "cell_type": "markdown",
   "metadata": {},
   "source": [
    "Using the time module (https://docs.python.org/3/library/time.html), a start time and end time for each function will be noted and the elapsed time is what will be noted.\n",
    "Above a random arrays were defined. They will be used to test the performance of the "
   ]
  },
  {
   "cell_type": "markdown",
   "metadata": {},
   "source": [
    "#### 1. Benchmarking Bubble Sort"
   ]
  },
  {
   "cell_type": "code",
   "execution_count": 24,
   "metadata": {
    "collapsed": true
   },
   "outputs": [],
   "source": [
    "#benchmark_bubblesort.py\n",
    "from benchmark_bubblesort import *"
   ]
  },
  {
   "cell_type": "markdown",
   "metadata": {},
   "source": [
    "#### 2. Benchmarking Merge Sort"
   ]
  },
  {
   "cell_type": "code",
   "execution_count": 25,
   "metadata": {
    "collapsed": true
   },
   "outputs": [],
   "source": [
    "#benchmark_mergesort.py\n",
    "from benchmark_mergesort import *"
   ]
  },
  {
   "cell_type": "markdown",
   "metadata": {},
   "source": [
    "#### 3. Benchmarking Counting Sort"
   ]
  },
  {
   "cell_type": "code",
   "execution_count": 26,
   "metadata": {
    "collapsed": true
   },
   "outputs": [],
   "source": [
    "#benchmark_countingsort.py\n",
    "from benchmark_countingsort import *"
   ]
  },
  {
   "cell_type": "markdown",
   "metadata": {},
   "source": [
    "#### 4. Benchmarking Quick sort"
   ]
  },
  {
   "cell_type": "code",
   "execution_count": 35,
   "metadata": {},
   "outputs": [
    {
     "name": "stdout",
     "output_type": "stream",
     "text": [
      "[0.0, 0.002, 0.005, 0.009, 0.015, 0.024, 0.042, 0.069, 0.111, 0.166, 0.237, 0.326, 0.432, 1.97]\n"
     ]
    }
   ],
   "source": [
    "#benchmark_quicksort.py\n",
    "from benchmark_quicksort import *"
   ]
  },
  {
   "cell_type": "markdown",
   "metadata": {},
   "source": [
    "#### 5. Benchmarking Insertion sort"
   ]
  },
  {
   "cell_type": "code",
   "execution_count": 46,
   "metadata": {
    "collapsed": true
   },
   "outputs": [],
   "source": [
    "#benchmark_insertionsort.py\n",
    "from benchmark_insertionsort import *"
   ]
  },
  {
   "cell_type": "markdown",
   "metadata": {},
   "source": [
    "#### 6. Benchmarking bogosort"
   ]
  },
  {
   "cell_type": "code",
   "execution_count": 47,
   "metadata": {
    "collapsed": true
   },
   "outputs": [],
   "source": [
    "#benchmark_bogosort.py\n",
    "from benchmark_bogosort import *"
   ]
  },
  {
   "cell_type": "markdown",
   "metadata": {},
   "source": [
    "### Create a table for the results \n",
    "Using the data from the benchmarking timings for each sorting algorithms, a table was created. The table was created using the pandas libary https://pandas.pydata.org/"
   ]
  },
  {
   "cell_type": "code",
   "execution_count": 48,
   "metadata": {},
   "outputs": [
    {
     "data": {
      "text/html": [
       "<div>\n",
       "<style scoped>\n",
       "    .dataframe tbody tr th:only-of-type {\n",
       "        vertical-align: middle;\n",
       "    }\n",
       "\n",
       "    .dataframe tbody tr th {\n",
       "        vertical-align: top;\n",
       "    }\n",
       "\n",
       "    .dataframe thead th {\n",
       "        text-align: right;\n",
       "    }\n",
       "</style>\n",
       "<table border=\"1\" class=\"dataframe\">\n",
       "  <thead>\n",
       "    <tr style=\"text-align: right;\">\n",
       "      <th></th>\n",
       "      <th>Size</th>\n",
       "      <th>Bubble Sort</th>\n",
       "      <th>Merge Sort</th>\n",
       "      <th>Counting sort</th>\n",
       "      <th>Quick sort</th>\n",
       "      <th>Insertion sort</th>\n",
       "      <th>BogoSort</th>\n",
       "    </tr>\n",
       "  </thead>\n",
       "  <tbody>\n",
       "    <tr>\n",
       "      <th>0</th>\n",
       "      <td>100</td>\n",
       "      <td>0.001</td>\n",
       "      <td>0.000</td>\n",
       "      <td>0.000</td>\n",
       "      <td>0.000</td>\n",
       "      <td>0.000</td>\n",
       "      <td>0.000</td>\n",
       "    </tr>\n",
       "    <tr>\n",
       "      <th>1</th>\n",
       "      <td>250</td>\n",
       "      <td>0.004</td>\n",
       "      <td>0.001</td>\n",
       "      <td>0.000</td>\n",
       "      <td>0.002</td>\n",
       "      <td>0.000</td>\n",
       "      <td>0.000</td>\n",
       "    </tr>\n",
       "    <tr>\n",
       "      <th>2</th>\n",
       "      <td>500</td>\n",
       "      <td>0.017</td>\n",
       "      <td>0.003</td>\n",
       "      <td>0.000</td>\n",
       "      <td>0.005</td>\n",
       "      <td>0.000</td>\n",
       "      <td>0.000</td>\n",
       "    </tr>\n",
       "    <tr>\n",
       "      <th>3</th>\n",
       "      <td>750</td>\n",
       "      <td>0.050</td>\n",
       "      <td>0.005</td>\n",
       "      <td>0.001</td>\n",
       "      <td>0.009</td>\n",
       "      <td>0.000</td>\n",
       "      <td>0.000</td>\n",
       "    </tr>\n",
       "    <tr>\n",
       "      <th>4</th>\n",
       "      <td>1000</td>\n",
       "      <td>0.108</td>\n",
       "      <td>0.009</td>\n",
       "      <td>0.001</td>\n",
       "      <td>0.015</td>\n",
       "      <td>0.001</td>\n",
       "      <td>0.000</td>\n",
       "    </tr>\n",
       "    <tr>\n",
       "      <th>5</th>\n",
       "      <td>1250</td>\n",
       "      <td>0.195</td>\n",
       "      <td>0.013</td>\n",
       "      <td>0.002</td>\n",
       "      <td>0.024</td>\n",
       "      <td>0.001</td>\n",
       "      <td>0.001</td>\n",
       "    </tr>\n",
       "    <tr>\n",
       "      <th>6</th>\n",
       "      <td>2500</td>\n",
       "      <td>0.552</td>\n",
       "      <td>0.022</td>\n",
       "      <td>0.003</td>\n",
       "      <td>0.042</td>\n",
       "      <td>0.001</td>\n",
       "      <td>0.001</td>\n",
       "    </tr>\n",
       "    <tr>\n",
       "      <th>7</th>\n",
       "      <td>3570</td>\n",
       "      <td>1.290</td>\n",
       "      <td>0.036</td>\n",
       "      <td>0.004</td>\n",
       "      <td>0.069</td>\n",
       "      <td>0.002</td>\n",
       "      <td>0.001</td>\n",
       "    </tr>\n",
       "    <tr>\n",
       "      <th>8</th>\n",
       "      <td>5000</td>\n",
       "      <td>2.725</td>\n",
       "      <td>0.055</td>\n",
       "      <td>0.006</td>\n",
       "      <td>0.111</td>\n",
       "      <td>0.003</td>\n",
       "      <td>0.002</td>\n",
       "    </tr>\n",
       "    <tr>\n",
       "      <th>9</th>\n",
       "      <td>6250</td>\n",
       "      <td>4.955</td>\n",
       "      <td>0.080</td>\n",
       "      <td>0.008</td>\n",
       "      <td>0.166</td>\n",
       "      <td>0.004</td>\n",
       "      <td>0.003</td>\n",
       "    </tr>\n",
       "    <tr>\n",
       "      <th>10</th>\n",
       "      <td>7500</td>\n",
       "      <td>8.118</td>\n",
       "      <td>0.110</td>\n",
       "      <td>0.011</td>\n",
       "      <td>0.237</td>\n",
       "      <td>0.006</td>\n",
       "      <td>0.004</td>\n",
       "    </tr>\n",
       "    <tr>\n",
       "      <th>11</th>\n",
       "      <td>8750</td>\n",
       "      <td>12.441</td>\n",
       "      <td>0.146</td>\n",
       "      <td>0.014</td>\n",
       "      <td>0.326</td>\n",
       "      <td>0.007</td>\n",
       "      <td>0.005</td>\n",
       "    </tr>\n",
       "    <tr>\n",
       "      <th>12</th>\n",
       "      <td>10000</td>\n",
       "      <td>18.097</td>\n",
       "      <td>0.189</td>\n",
       "      <td>0.018</td>\n",
       "      <td>0.432</td>\n",
       "      <td>0.009</td>\n",
       "      <td>0.006</td>\n",
       "    </tr>\n",
       "    <tr>\n",
       "      <th>13</th>\n",
       "      <td>50000</td>\n",
       "      <td>165.185</td>\n",
       "      <td>0.443</td>\n",
       "      <td>0.029</td>\n",
       "      <td>1.970</td>\n",
       "      <td>0.019</td>\n",
       "      <td>0.011</td>\n",
       "    </tr>\n",
       "  </tbody>\n",
       "</table>\n",
       "</div>"
      ],
      "text/plain": [
       "     Size  Bubble Sort  Merge Sort  Counting sort  Quick sort  Insertion sort  \\\n",
       "0     100        0.001       0.000          0.000       0.000           0.000   \n",
       "1     250        0.004       0.001          0.000       0.002           0.000   \n",
       "2     500        0.017       0.003          0.000       0.005           0.000   \n",
       "3     750        0.050       0.005          0.001       0.009           0.000   \n",
       "4    1000        0.108       0.009          0.001       0.015           0.001   \n",
       "5    1250        0.195       0.013          0.002       0.024           0.001   \n",
       "6    2500        0.552       0.022          0.003       0.042           0.001   \n",
       "7    3570        1.290       0.036          0.004       0.069           0.002   \n",
       "8    5000        2.725       0.055          0.006       0.111           0.003   \n",
       "9    6250        4.955       0.080          0.008       0.166           0.004   \n",
       "10   7500        8.118       0.110          0.011       0.237           0.006   \n",
       "11   8750       12.441       0.146          0.014       0.326           0.007   \n",
       "12  10000       18.097       0.189          0.018       0.432           0.009   \n",
       "13  50000      165.185       0.443          0.029       1.970           0.019   \n",
       "\n",
       "    BogoSort  \n",
       "0      0.000  \n",
       "1      0.000  \n",
       "2      0.000  \n",
       "3      0.000  \n",
       "4      0.000  \n",
       "5      0.001  \n",
       "6      0.001  \n",
       "7      0.001  \n",
       "8      0.002  \n",
       "9      0.003  \n",
       "10     0.004  \n",
       "11     0.005  \n",
       "12     0.006  \n",
       "13     0.011  "
      ]
     },
     "execution_count": 48,
     "metadata": {},
     "output_type": "execute_result"
    }
   ],
   "source": [
    "import pandas as pd\n",
    "import numpy as np\n",
    "\n",
    "df = pd.DataFrame(columns = ['Size','Bubble Sort', 'Merge Sort', 'Counting sort', 'Quick sort', 'Insertion sort', 'BogoSort'])\n",
    "\n",
    "df['Size'] = [100, 250, 500, 750, 1000, 1250, 2500, 3570, 5000, 6250, 7500, 8750, 10000, 50000]\n",
    "\n",
    "df['Bubble Sort'] = bubble_avglist\n",
    "df['Merge Sort'] = mergesort_avglist\n",
    "df['Counting sort'] = countsort_avglist\n",
    "df['Quick sort'] = quicksort_avglist\n",
    "df['Insertion sort'] = insertsort_avglist\n",
    "df['BogoSort'] = bogosort_avg\n",
    "\n",
    "df"
   ]
  },
  {
   "cell_type": "markdown",
   "metadata": {},
   "source": [
    "### Summary Statistics\n",
    "Summary statistics can give an elegent overview of your data. You can clearly see that the slowest algorithm was Bubble Sort."
   ]
  },
  {
   "cell_type": "code",
   "execution_count": 49,
   "metadata": {},
   "outputs": [
    {
     "data": {
      "text/html": [
       "<div>\n",
       "<style scoped>\n",
       "    .dataframe tbody tr th:only-of-type {\n",
       "        vertical-align: middle;\n",
       "    }\n",
       "\n",
       "    .dataframe tbody tr th {\n",
       "        vertical-align: top;\n",
       "    }\n",
       "\n",
       "    .dataframe thead th {\n",
       "        text-align: right;\n",
       "    }\n",
       "</style>\n",
       "<table border=\"1\" class=\"dataframe\">\n",
       "  <thead>\n",
       "    <tr style=\"text-align: right;\">\n",
       "      <th></th>\n",
       "      <th>count</th>\n",
       "      <th>mean</th>\n",
       "      <th>std</th>\n",
       "      <th>min</th>\n",
       "      <th>25%</th>\n",
       "      <th>50%</th>\n",
       "      <th>75%</th>\n",
       "      <th>max</th>\n",
       "    </tr>\n",
       "  </thead>\n",
       "  <tbody>\n",
       "    <tr>\n",
       "      <th>Size</th>\n",
       "      <td>14.0</td>\n",
       "      <td>6958.571429</td>\n",
       "      <td>12834.488907</td>\n",
       "      <td>100.000</td>\n",
       "      <td>812.50000</td>\n",
       "      <td>3035.0000</td>\n",
       "      <td>7187.50000</td>\n",
       "      <td>50000.000</td>\n",
       "    </tr>\n",
       "    <tr>\n",
       "      <th>Bubble Sort</th>\n",
       "      <td>14.0</td>\n",
       "      <td>15.267000</td>\n",
       "      <td>43.505196</td>\n",
       "      <td>0.001</td>\n",
       "      <td>0.06450</td>\n",
       "      <td>0.9210</td>\n",
       "      <td>7.32725</td>\n",
       "      <td>165.185</td>\n",
       "    </tr>\n",
       "    <tr>\n",
       "      <th>Merge Sort</th>\n",
       "      <td>14.0</td>\n",
       "      <td>0.079429</td>\n",
       "      <td>0.120432</td>\n",
       "      <td>0.000</td>\n",
       "      <td>0.00600</td>\n",
       "      <td>0.0290</td>\n",
       "      <td>0.10250</td>\n",
       "      <td>0.443</td>\n",
       "    </tr>\n",
       "    <tr>\n",
       "      <th>Counting sort</th>\n",
       "      <td>14.0</td>\n",
       "      <td>0.006929</td>\n",
       "      <td>0.008508</td>\n",
       "      <td>0.000</td>\n",
       "      <td>0.00100</td>\n",
       "      <td>0.0035</td>\n",
       "      <td>0.01025</td>\n",
       "      <td>0.029</td>\n",
       "    </tr>\n",
       "    <tr>\n",
       "      <th>Quick sort</th>\n",
       "      <td>14.0</td>\n",
       "      <td>0.243429</td>\n",
       "      <td>0.514982</td>\n",
       "      <td>0.000</td>\n",
       "      <td>0.01050</td>\n",
       "      <td>0.0555</td>\n",
       "      <td>0.21925</td>\n",
       "      <td>1.970</td>\n",
       "    </tr>\n",
       "    <tr>\n",
       "      <th>Insertion sort</th>\n",
       "      <td>14.0</td>\n",
       "      <td>0.003786</td>\n",
       "      <td>0.005250</td>\n",
       "      <td>0.000</td>\n",
       "      <td>0.00025</td>\n",
       "      <td>0.0015</td>\n",
       "      <td>0.00550</td>\n",
       "      <td>0.019</td>\n",
       "    </tr>\n",
       "    <tr>\n",
       "      <th>BogoSort</th>\n",
       "      <td>14.0</td>\n",
       "      <td>0.002429</td>\n",
       "      <td>0.003180</td>\n",
       "      <td>0.000</td>\n",
       "      <td>0.00000</td>\n",
       "      <td>0.0010</td>\n",
       "      <td>0.00375</td>\n",
       "      <td>0.011</td>\n",
       "    </tr>\n",
       "  </tbody>\n",
       "</table>\n",
       "</div>"
      ],
      "text/plain": [
       "                count         mean           std      min        25%  \\\n",
       "Size             14.0  6958.571429  12834.488907  100.000  812.50000   \n",
       "Bubble Sort      14.0    15.267000     43.505196    0.001    0.06450   \n",
       "Merge Sort       14.0     0.079429      0.120432    0.000    0.00600   \n",
       "Counting sort    14.0     0.006929      0.008508    0.000    0.00100   \n",
       "Quick sort       14.0     0.243429      0.514982    0.000    0.01050   \n",
       "Insertion sort   14.0     0.003786      0.005250    0.000    0.00025   \n",
       "BogoSort         14.0     0.002429      0.003180    0.000    0.00000   \n",
       "\n",
       "                      50%         75%        max  \n",
       "Size            3035.0000  7187.50000  50000.000  \n",
       "Bubble Sort        0.9210     7.32725    165.185  \n",
       "Merge Sort         0.0290     0.10250      0.443  \n",
       "Counting sort      0.0035     0.01025      0.029  \n",
       "Quick sort         0.0555     0.21925      1.970  \n",
       "Insertion sort     0.0015     0.00550      0.019  \n",
       "BogoSort           0.0010     0.00375      0.011  "
      ]
     },
     "execution_count": 49,
     "metadata": {},
     "output_type": "execute_result"
    }
   ],
   "source": [
    "summary = df.describe()\n",
    "summary = summary.transpose()\n",
    "summary"
   ]
  },
  {
   "cell_type": "markdown",
   "metadata": {
    "collapsed": true
   },
   "source": [
    "### Plotting the sorting algorithms timings in a graph\n",
    "Seaborn https://seaborn.pydata.org/ and Matplotlib https://matplotlib.org/ were used to generate a data visualisation of the algorithms\n"
   ]
  },
  {
   "cell_type": "code",
   "execution_count": 50,
   "metadata": {},
   "outputs": [
    {
     "data": {
      "image/png": "[encoded data removed]",
      "text/plain": [
       "<matplotlib.figure.Figure at 0x113b78828>"
      ]
     },
     "metadata": {},
     "output_type": "display_data"
    }
   ],
   "source": [
    "import seaborn as sns\n",
    "import matplotlib.pyplot as plt\n",
    "sns.set(style=\"whitegrid\", palette=\"husl\", rc={'figure.figsize':(14,16)})\n",
    "\n",
    "title=\"Benchmarking Sorting Algorithms\"\n",
    "\n",
    "\n",
    "# Bubble Sort\n",
    "bubble = sns.lineplot( x=\"Size\", y=\"Bubble Sort\", data=df, marker='o', label='Bubble Sort')\n",
    "# Merge sort\n",
    "merge = sns.lineplot( x=\"Size\", y=\"Merge Sort\", data=df, marker='o', label='Merge Sort')\n",
    "# Counting sort\n",
    "counting = sns.lineplot( x=\"Size\", y=\"Counting sort\", marker='o', data=df, label=\"Counting Sort\")\n",
    "# Quick sort\n",
    "quick = sns.lineplot( x=\"Size\", y=\"Quick sort\", data=df, marker='o',label=\"Quick Sort\")\n",
    "# Insertion sort\n",
    "insert = sns.lineplot( x=\"Size\", y=\"Insertion sort\", data=df, marker='o', label=\"Insertion Sort\")\n",
    "\n",
    "# BogoSort\n",
    "bogo = sns.lineplot( x=\"Size\", y=\"BogoSort\", data=df, marker='o', label=\"BogoSort\")\n",
    "\n",
    "\n",
    "plt.xlabel('Input size n', fontsize=16)\n",
    "plt.ylabel('Running Time in seconds',fontsize=16)\n",
    "\n",
    "# Increasing font size\n",
    "plt.title(title, fontsize=26)\n",
    "\n",
    "# Show the plot\n",
    "plt.show()"
   ]
  },
  {
   "cell_type": "code",
   "execution_count": 51,
   "metadata": {},
   "outputs": [
    {
     "data": {
      "image/png": "[encoded data removed]",
      "text/plain": [
       "<matplotlib.figure.Figure at 0x11691c6a0>"
      ]
     },
     "metadata": {},
     "output_type": "display_data"
    }
   ],
   "source": [
    "import seaborn as sns\n",
    "import matplotlib.pyplot as plt\n",
    "sns.set(style=\"whitegrid\", palette=\"husl\", rc={'figure.figsize':(14,14)})\n",
    "\n",
    "title=\"Benchmarking Sorting Algorithms (closer look)\"\n",
    "\n",
    "\n",
    "# Bubble Sort\n",
    "#bubble = sns.lineplot( x=\"Size\", y=\"Bubble Sort\", data=df, marker='o', label='Bubble Sort')\n",
    "# Merge sort\n",
    "merge = sns.lineplot( x=\"Size\", y=\"Merge Sort\", data=df, marker='o', label='Merge Sort')\n",
    "# Counting sort\n",
    "counting = sns.lineplot( x=\"Size\", y=\"Counting sort\", marker='o', data=df, label=\"Counting Sort\")\n",
    "# Quick sort\n",
    "quick = sns.lineplot( x=\"Size\", y=\"Quick sort\", data=df, marker='o',label=\"Quick Sort\")\n",
    "# Insertion sort\n",
    "insert = sns.lineplot( x=\"Size\", y=\"Insertion sort\", data=df, marker='o', label=\"Insertion Sort\")\n",
    "\n",
    "# BogoSort\n",
    "bogo = sns.lineplot( x=\"Size\", y=\"BogoSort\", data=df, marker='o', label=\"BogoSort\")\n",
    "\n",
    "\n",
    "plt.xlabel('Input size n', fontsize=16)\n",
    "plt.ylabel('Running Time in seconds',fontsize=16)\n",
    "\n",
    "# Increasing font size\n",
    "plt.title(title, fontsize=26)\n",
    "\n",
    "\n",
    "# Show the plot\n",
    "plt.show()"
   ]
  },
  {
   "cell_type": "markdown",
   "metadata": {},
   "source": [
    "## Conclusion\n",
    "\n",
    "Here is a quick overview of the performance of each algorithm in their best, average and worse case. "
   ]
  },
  {
   "cell_type": "markdown",
   "metadata": {},
   "source": [
    "| Algorithm | Best  | Average | Worst  |\n",
    "|-----------|------|------|------|\n",
    "|   Bubble Sort  | O(n) |O(n2)|O(n2)|\n",
    "|   Quick Sort     | O(n log n) |O(n log n)|O(n2))|\n",
    "|   Merge Sort  | O(n log n) |O(n log n)|O(n log n)|\n",
    "|   Counting Sort  | O(n +k) |O(n +k)|O(n +k)|\n",
    "|   Insertion Sort     | O(n) |O(n2)|O(n2)|\n",
    "|   BogoSort     | O(n) |(O(n+1)!)|(O(n+1)!)|"
   ]
  },
  {
   "cell_type": "markdown",
   "metadata": {},
   "source": [
    "As you can see from the above graph, the slowest algorithm was Bubble Sort which was expected as it has the worst-case and average complexity of О(n2), where n is the number of items being sorted. It is the least practical algorithm and should be not be used in real life to solve problems.\n",
    "\n",
    "Quick sort was the second slowest, because of the fact it is named 'quick sort' the expectation was that it would be faster however when looking at the Big-O Complexity chart it matches expected performance and merge sort does much better than it. Both these algorithms are O(n log n) and use the divide and conquer strategy. However Merge sort works faster and more efficient than quick sort in case of larger array size. Quick sort is 1.5s slower than Merge sort.\n",
    "\n",
    "Counting sort and insertion sort perform great even when the numbers reach 50,000. Bogosort was the best performing algorithm which was very surprising considering the way it sorts it's array with random permutation and it's possibility to have the time complexity (O(n+1)!). However due to it's method of sorting I doubt it is very usable in real life. \n"
   ]
  },
  {
   "cell_type": "markdown",
   "metadata": {
    "collapsed": true
   },
   "source": [
    "Image: Big O Cheatsheet (sourced from http://bigocheatsheet.com/_)\n",
    "\n",
    "![title](bigo.png)"
   ]
  },
  {
   "cell_type": "code",
   "execution_count": null,
   "metadata": {
    "collapsed": true
   },
   "outputs": [],
   "source": []
  }
 ],
 "metadata": {
  "kernelspec": {
   "display_name": "Python 3",
   "language": "python",
   "name": "python3"
  },
  "language_info": {
   "codemirror_mode": {
    "name": "ipython",
    "version": 3
   },
   "file_extension": ".py",
   "mimetype": "text/x-python",
   "name": "python",
   "nbconvert_exporter": "python",
   "pygments_lexer": "ipython3",
   "version": "3.6.8"
  }
 },
 "nbformat": 4,
 "nbformat_minor": 2
}
